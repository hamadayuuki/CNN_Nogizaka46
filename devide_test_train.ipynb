{
 "cells": [
  {
   "cell_type": "code",
   "execution_count": 1,
   "id": "available-hampton",
   "metadata": {},
   "outputs": [],
   "source": [
    "# 4\n",
    "\n",
    "#img_file_name_listをシャッフル、そのうち2割 ( for t in ~~~ ) をtest_imageディテクトリに入れる\n",
    "\n",
    "# 注意\n",
    "# 実行は一回にする\n",
    "# 理由 : 実行するたびにテスト用画像が増加し,訓練用データは減少するから\n",
    "# 何度も実行した場合は Remake_Pic 二つ目のプログラムを実行\n",
    "\n",
    "\n",
    "import shutil\n",
    "import random\n",
    "import glob\n",
    "import os\n",
    "\n",
    "names = [\"白石麻衣\",\"斎藤飛鳥\",\"山下美月\",\"西野七瀬\",\"生田絵梨花\"]\n",
    "os.makedirs(\"./test\",exist_ok=True)\n",
    "\n",
    "for name in names:\n",
    "    in_dir=\"./face_after/\"+name+\"/*\"\n",
    "    in_jpg=glob.glob(in_dir)\n",
    "    img_file_name_list=os.listdir(\"./face_after/\"+name+\"/\")\n",
    "    \n",
    "    # #img_file_name_listをシャッフル、そのうち2割 ( for t in ~~~ ) をtest_imageディテクトリに入れる\n",
    "    random.shuffle(in_jpg)\n",
    "    os.makedirs(\"./test/\"+name,exist_ok=True)\n",
    "    for t in range(len(in_jpg)//5):\n",
    "        shutil.move(str(in_jpg[t]),\"./test/\"+name)"
   ]
  },
  {
   "cell_type": "code",
   "execution_count": null,
   "id": "velvet-immigration",
   "metadata": {},
   "outputs": [],
   "source": []
  }
 ],
 "metadata": {
  "kernelspec": {
   "display_name": "Python 3",
   "language": "python",
   "name": "python3"
  },
  "language_info": {
   "codemirror_mode": {
    "name": "ipython",
    "version": 3
   },
   "file_extension": ".py",
   "mimetype": "text/x-python",
   "name": "python",
   "nbconvert_exporter": "python",
   "pygments_lexer": "ipython3",
   "version": "3.7.9"
  }
 },
 "nbformat": 4,
 "nbformat_minor": 5
}
