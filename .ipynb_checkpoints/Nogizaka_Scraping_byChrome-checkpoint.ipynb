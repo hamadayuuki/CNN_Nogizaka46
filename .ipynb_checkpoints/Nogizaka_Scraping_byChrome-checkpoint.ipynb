{
 "cells": [
  {
   "cell_type": "code",
   "execution_count": 1,
   "id": "sought-authorization",
   "metadata": {},
   "outputs": [],
   "source": [
    "import argparse\n",
    "import json\n",
    "import os\n",
    "import urllib\n",
    "\n",
    "from bs4 import BeautifulSoup\n",
    "import requests\n",
    "\n"
   ]
  },
  {
   "cell_type": "code",
   "execution_count": 6,
   "id": "atomic-florence",
   "metadata": {},
   "outputs": [
    {
     "name": "stdout",
     "output_type": "stream",
     "text": [
      "[]\n",
      "[]\n",
      "[]\n",
      "3\n"
     ]
    }
   ],
   "source": [
    "from bs4 import BeautifulSoup\n",
    "import urllib.request, urllib.error, urllib.parse\n",
    " \n",
    "keyword = '有村架純'\n",
    "max_page = 3 # ページ数（20枚/ページ）\n",
    "dst_path = './img-kasumi/'\n",
    " \n",
    "headers = {\n",
    "    \"User-Agent\": \"Mozilla/5.0 (X11; Ubuntu; Linux x86_64; rv:47.0) Gecko/20100101 Firefox/47.0\",\n",
    "}\n",
    " \n",
    "count=0\n",
    "cnt = 1\n",
    "for i in range(max_page):\n",
    "    count+=1\n",
    "    cnt += 20\n",
    "    url = 'https://search.yahoo.co.jp/image/search?p={}&ei=UTF-8&b={}'.format(urllib.parse.quote(keyword), cnt)\n",
    " \n",
    "    req = urllib.request.Request(url=url, headers=headers)\n",
    "    res = urllib.request.urlopen(req)\n",
    "    soup = BeautifulSoup(res)\n",
    " \n",
    "    #div = soup.find('div', id='gridlist')\n",
    "    imgs = soup.find_all('img')\n",
    " \n",
    "    for j in range(len(imgs)):\n",
    "        img = imgs[j]['src']\n",
    "        tmp = urllib.request.urlopen(img)\n",
    "        data = tmp.read()\n",
    " \n",
    "        file_name = dst_path + 'page' + str(i+1) + '_img' + str(j+1) + '.jpg'\n",
    " \n",
    "        with open(file_name, 'wb') as save_img:\n",
    "            save_img.write(data)\n",
    "print(count)"
   ]
  },
  {
   "cell_type": "code",
   "execution_count": null,
   "id": "thorough-growth",
   "metadata": {},
   "outputs": [],
   "source": []
  }
 ],
 "metadata": {
  "kernelspec": {
   "display_name": "Python 3",
   "language": "python",
   "name": "python3"
  },
  "language_info": {
   "codemirror_mode": {
    "name": "ipython",
    "version": 3
   },
   "file_extension": ".py",
   "mimetype": "text/x-python",
   "name": "python",
   "nbconvert_exporter": "python",
   "pygments_lexer": "ipython3",
   "version": "3.7.9"
  }
 },
 "nbformat": 4,
 "nbformat_minor": 5
}
